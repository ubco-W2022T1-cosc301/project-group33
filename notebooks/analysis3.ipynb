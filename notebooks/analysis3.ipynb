{
 "cells": [
  {
   "cell_type": "markdown",
   "metadata": {},
   "source": [
    "# Jyo Sahoo"
   ]
  },
  {
   "cell_type": "markdown",
   "metadata": {},
   "source": [
    "## Research question/interests\n",
    "\n",
    "My area of concern is the correlation between familial and social relationships and the alcohol consumption of a student. Does the marriage status of the parents affect a student's relationship with their family and/or their significant other and/or their friends? If so then do students turn to alcohol to cope with such familial and/or social discomfort? These questions hold personal value to me.\n"
   ]
  },
  {
   "cell_type": "code",
   "execution_count": null,
   "metadata": {},
   "outputs": [],
   "source": [
    "#imports\n",
    "import pandas as pd\n",
    "import matplotlib.pyplot as plt\n",
    "import numpy as np\n",
    "import seaborn as sns"
   ]
  },
  {
   "cell_type": "code",
   "execution_count": null,
   "metadata": {},
   "outputs": [],
   "source": [
    "data = pd.read_csv(\"../data/raw/student-merged.csv\")\n",
    "data.shape\n",
    "print(f\"number of columns in dataset : {len(data.columns)}\")\n",
    "print(f\"number of rows in dataset : {len(data)}\")\n",
    "print(data.head()) #printing the first few rows to tell me what the dataset is about\n",
    "print(data.isnull().sum()) #there are 0 null values!\n",
    "data.describe().apply(lambda s: s.apply(lambda x: format(x, 'f')))\n",
    "\n",
    "\n",
    "\n"
   ]
  },
  {
   "cell_type": "code",
   "execution_count": null,
   "metadata": {},
   "outputs": [],
   "source": [
    "print(f\"number of students with parents who are cohabiting = {len(data[data['Pstatus']=='T'])}\") \n",
    "print(f\"number of students with parents who are not cohabiting = {len(data[data['Pstatus']=='A'])}\")\n",
    "# I discovered that almost 90% of the students' parents live together.\n",
    "print(data[data['Pstatus']=='T'].head())\n",
    "\n",
    "\n"
   ]
  },
  {
   "cell_type": "code",
   "execution_count": null,
   "metadata": {},
   "outputs": [],
   "source": [
    "box = plt.boxplot(data[data['Pstatus']=='A']['Walc.x'])\n",
    "plt.title(\"Weekend Alcohol Consumption by Students with Parents who do not Cohabit\")\n",
    "plt.plot()\n",
    "\n"
   ]
  },
  {
   "cell_type": "code",
   "execution_count": null,
   "metadata": {},
   "outputs": [],
   "source": [
    "plt.boxplot(data[data['Pstatus']=='T']['Walc.x'])\n",
    "plt.title(\"Weekend Alcohol Consumption by Students with Parents who do Cohabit\")\n",
    "plt.plot()"
   ]
  },
  {
   "cell_type": "markdown",
   "metadata": {},
   "source": [
    "Comparing these two boxplots, I infer that the maximum alcohol consumption of students who's parents do not cohabit is more than those who's parents do cohabit. However "
   ]
  },
  {
   "cell_type": "code",
   "execution_count": null,
   "metadata": {},
   "outputs": [],
   "source": [
    "data.head()\n",
    "sns.countplot(data=data,x='Pstatus',hue=\"famrel.x\")\n"
   ]
  },
  {
   "cell_type": "markdown",
   "metadata": {},
   "source": [
    "The graph above makes it abundantly clar that parents' cohabitation status does not affect the relationship of the students with their parents.\n"
   ]
  },
  {
   "cell_type": "markdown",
   "metadata": {},
   "source": [
    "### Task 2 : Analysis Pipeline"
   ]
  },
  {
   "cell_type": "code",
   "execution_count": null,
   "metadata": {},
   "outputs": [],
   "source": [
    "# data has been loaded already\n",
    "# print(data.isnull().sum()) # there are zero null values\n",
    "data_cleaned = data.copy().drop(['sex','school','address','Medu','Fedu','Mjob','Fjob','reason','guardian.x','guardian.y','traveltime.x','traveltime.y','schoolsup.x','schoolsup.y','paid.x','paid.y','famsup.x','famsup.y','nursery','health.x','health.y','higher.x','higher.y','Dalc.y','Walc.y','famrel.y','freetime.y','absences.y','studytime.y','romantic.y','goout.y','failures.y','activities.y','studytime.x'],axis=1)\n",
    "\n",
    "# using only one column to store the average of all three math grades\n",
    "data_cleaned['math_avg'] = (data_cleaned['G1.x']+data_cleaned['G2.x']+data_cleaned['G3.x'])/3 \n",
    "data_cleaned = data_cleaned.drop(['G1.x','G2.x','G3.x'],axis=1)\n",
    "\n",
    "# using only one column to store the average of all three math grades\n",
    "data_cleaned['por_avg'] = (data_cleaned['G1.y']+data_cleaned['G2.y']+data_cleaned['G3.y'])/3\n",
    "data_cleaned = data_cleaned.drop(['G1.y','G2.y','G3.y'],axis=1)\n",
    "\n",
    "# renaming 'unnamed: 0' to student_id\n",
    "data_cleaned = data_cleaned.rename(columns={'Unnamed: 0':'student_id', 'failures.x':'failures', 'activities.x':'activities', 'romantic.x':'romantic_relationship','Walc.x':'Weekend_alcohol','Dalc.x':'Weekday_alcohol', 'famrel.x':'family_relationship','freetime.x':'freetime','goout.x':'socialising','absences.x':'absence'})\n",
    "print(data_cleaned.columns.values.tolist())\n",
    "\n",
    "\n",
    "\n",
    "\n",
    "\n"
   ]
  },
  {
   "cell_type": "markdown",
   "metadata": {},
   "source": [
    "### Task 3 : Method Chaining"
   ]
  },
  {
   "cell_type": "code",
   "execution_count": null,
   "metadata": {},
   "outputs": [],
   "source": [
    "def load_and_process(url_or_path):\n",
    "    df = (\n",
    "        pd.read_csv(url_or_path)\n",
    "        .rename(columns={'Unnamed: 0':'student_id', 'failures.x':'failures', 'activities.x':'activities', 'romantic.x':'romantic_relationship','Walc.x':'Weekend_alcohol','Dalc.x':'Weekday_alcohol', 'famrel.x':'family_relationship','freetime.x':'freetime','goout.x':'socialising','absences.x':'absence'})\n",
    "    )\n",
    "    df2 = (\n",
    "        df.assign(math_avg = lambda x :df['G1.x']+df['G2.x']+df['G3.x'])\n",
    "        .assign(por_avg = lambda x :df['G1.y']+df['G2.y']+df['G3.y'])\n",
    "        .drop(['G1.x','G2.x','G3.x','G1.y','G2.y','G3.y'],axis=1)\n",
    "    )\n",
    "\n",
    "    return df2\n",
    "    \n"
   ]
  }
 ],
 "metadata": {
  "kernelspec": {
   "display_name": "Python 3.9.6 64-bit",
   "language": "python",
   "name": "python3"
  },
  "language_info": {
   "codemirror_mode": {
    "name": "ipython",
    "version": 3
   },
   "file_extension": ".py",
   "mimetype": "text/x-python",
   "name": "python",
   "nbconvert_exporter": "python",
   "pygments_lexer": "ipython3",
   "version": "3.9.6"
  },
  "vscode": {
   "interpreter": {
    "hash": "31f2aee4e71d21fbe5cf8b01ff0e069b9275f58929596ceb00d14d90e3e16cd6"
   }
  }
 },
 "nbformat": 4,
 "nbformat_minor": 2
}
