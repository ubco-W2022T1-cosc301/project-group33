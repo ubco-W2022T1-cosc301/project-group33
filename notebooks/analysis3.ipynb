{
 "cells": [
  {
   "cell_type": "markdown",
   "metadata": {},
   "source": [
    "# Jyo Sahoo"
   ]
  },
  {
   "cell_type": "markdown",
   "metadata": {},
   "source": [
    "## Research question/interests\n",
    "\n",
    "My area of concern is the correlation between familial and social relationships and the alcohol consumption of a student. Does a student's social and home life affect their academic progress? If so then do students turn to alcohol to cope with such familial and/or social discomfort? These questions hold personal value to me.\n"
   ]
  },
  {
   "cell_type": "code",
   "execution_count": 132,
   "metadata": {},
   "outputs": [],
   "source": [
    "#imports\n",
    "import pandas as pd\n",
    "import matplotlib.pyplot as plt\n",
    "import numpy as np\n",
    "import seaborn as sns"
   ]
  },
  {
   "cell_type": "code",
   "execution_count": 133,
   "metadata": {},
   "outputs": [
    {
     "name": "stdout",
     "output_type": "stream",
     "text": [
      "number of columns in dataset : 54\n",
      "number of rows in dataset : 382\n",
      "   Unnamed: 0 school sex  age address famsize Pstatus  Medu  Fedu      Mjob  \\\n",
      "0           1     GP   F   15       R     GT3       T     1     1   at_home   \n",
      "1           2     GP   F   15       R     GT3       T     1     1     other   \n",
      "2           3     GP   F   15       R     GT3       T     2     2   at_home   \n",
      "3           4     GP   F   15       R     GT3       T     2     4  services   \n",
      "4           5     GP   F   15       R     GT3       T     3     3  services   \n",
      "\n",
      "   ... famrel.y freetime.y goout.y Dalc.y Walc.y  health.y  absences.y  G1.y  \\\n",
      "0  ...        3          1       2      1      1         1           4    13   \n",
      "1  ...        3          3       4      2      4         5           2    13   \n",
      "2  ...        4          3       1      1      1         2           8    14   \n",
      "3  ...        4          3       2      1      1         5           2    10   \n",
      "4  ...        4          2       1      2      3         3           2    13   \n",
      "\n",
      "  G2.y G3.y  \n",
      "0   13   13  \n",
      "1   11   11  \n",
      "2   13   12  \n",
      "3   11   10  \n",
      "4   13   13  \n",
      "\n",
      "[5 rows x 54 columns]\n",
      "Unnamed: 0      0\n",
      "school          0\n",
      "sex             0\n",
      "age             0\n",
      "address         0\n",
      "famsize         0\n",
      "Pstatus         0\n",
      "Medu            0\n",
      "Fedu            0\n",
      "Mjob            0\n",
      "Fjob            0\n",
      "reason          0\n",
      "nursery         0\n",
      "internet        0\n",
      "guardian.x      0\n",
      "traveltime.x    0\n",
      "studytime.x     0\n",
      "failures.x      0\n",
      "schoolsup.x     0\n",
      "famsup.x        0\n",
      "paid.x          0\n",
      "activities.x    0\n",
      "higher.x        0\n",
      "romantic.x      0\n",
      "famrel.x        0\n",
      "freetime.x      0\n",
      "goout.x         0\n",
      "Dalc.x          0\n",
      "Walc.x          0\n",
      "health.x        0\n",
      "absences.x      0\n",
      "G1.x            0\n",
      "G2.x            0\n",
      "G3.x            0\n",
      "guardian.y      0\n",
      "traveltime.y    0\n",
      "studytime.y     0\n",
      "failures.y      0\n",
      "schoolsup.y     0\n",
      "famsup.y        0\n",
      "paid.y          0\n",
      "activities.y    0\n",
      "higher.y        0\n",
      "romantic.y      0\n",
      "famrel.y        0\n",
      "freetime.y      0\n",
      "goout.y         0\n",
      "Dalc.y          0\n",
      "Walc.y          0\n",
      "health.y        0\n",
      "absences.y      0\n",
      "G1.y            0\n",
      "G2.y            0\n",
      "G3.y            0\n",
      "dtype: int64\n"
     ]
    },
    {
     "data": {
      "text/html": [
       "<div>\n",
       "<style scoped>\n",
       "    .dataframe tbody tr th:only-of-type {\n",
       "        vertical-align: middle;\n",
       "    }\n",
       "\n",
       "    .dataframe tbody tr th {\n",
       "        vertical-align: top;\n",
       "    }\n",
       "\n",
       "    .dataframe thead th {\n",
       "        text-align: right;\n",
       "    }\n",
       "</style>\n",
       "<table border=\"1\" class=\"dataframe\">\n",
       "  <thead>\n",
       "    <tr style=\"text-align: right;\">\n",
       "      <th></th>\n",
       "      <th>Unnamed: 0</th>\n",
       "      <th>age</th>\n",
       "      <th>Medu</th>\n",
       "      <th>Fedu</th>\n",
       "      <th>traveltime.x</th>\n",
       "      <th>studytime.x</th>\n",
       "      <th>failures.x</th>\n",
       "      <th>famrel.x</th>\n",
       "      <th>freetime.x</th>\n",
       "      <th>goout.x</th>\n",
       "      <th>...</th>\n",
       "      <th>famrel.y</th>\n",
       "      <th>freetime.y</th>\n",
       "      <th>goout.y</th>\n",
       "      <th>Dalc.y</th>\n",
       "      <th>Walc.y</th>\n",
       "      <th>health.y</th>\n",
       "      <th>absences.y</th>\n",
       "      <th>G1.y</th>\n",
       "      <th>G2.y</th>\n",
       "      <th>G3.y</th>\n",
       "    </tr>\n",
       "  </thead>\n",
       "  <tbody>\n",
       "    <tr>\n",
       "      <th>count</th>\n",
       "      <td>382.000000</td>\n",
       "      <td>382.000000</td>\n",
       "      <td>382.000000</td>\n",
       "      <td>382.000000</td>\n",
       "      <td>382.000000</td>\n",
       "      <td>382.000000</td>\n",
       "      <td>382.000000</td>\n",
       "      <td>382.000000</td>\n",
       "      <td>382.000000</td>\n",
       "      <td>382.000000</td>\n",
       "      <td>...</td>\n",
       "      <td>382.000000</td>\n",
       "      <td>382.000000</td>\n",
       "      <td>382.000000</td>\n",
       "      <td>382.000000</td>\n",
       "      <td>382.000000</td>\n",
       "      <td>382.000000</td>\n",
       "      <td>382.000000</td>\n",
       "      <td>382.000000</td>\n",
       "      <td>382.000000</td>\n",
       "      <td>382.000000</td>\n",
       "    </tr>\n",
       "    <tr>\n",
       "      <th>mean</th>\n",
       "      <td>191.500000</td>\n",
       "      <td>16.586387</td>\n",
       "      <td>2.806283</td>\n",
       "      <td>2.565445</td>\n",
       "      <td>1.442408</td>\n",
       "      <td>2.034031</td>\n",
       "      <td>0.290576</td>\n",
       "      <td>3.939791</td>\n",
       "      <td>3.222513</td>\n",
       "      <td>3.112565</td>\n",
       "      <td>...</td>\n",
       "      <td>3.942408</td>\n",
       "      <td>3.230366</td>\n",
       "      <td>3.117801</td>\n",
       "      <td>1.476440</td>\n",
       "      <td>2.290576</td>\n",
       "      <td>3.575916</td>\n",
       "      <td>3.672775</td>\n",
       "      <td>12.112565</td>\n",
       "      <td>12.238220</td>\n",
       "      <td>12.515707</td>\n",
       "    </tr>\n",
       "    <tr>\n",
       "      <th>std</th>\n",
       "      <td>110.418145</td>\n",
       "      <td>1.173470</td>\n",
       "      <td>1.086381</td>\n",
       "      <td>1.096240</td>\n",
       "      <td>0.695378</td>\n",
       "      <td>0.845798</td>\n",
       "      <td>0.729481</td>\n",
       "      <td>0.921620</td>\n",
       "      <td>0.988233</td>\n",
       "      <td>1.131927</td>\n",
       "      <td>...</td>\n",
       "      <td>0.908884</td>\n",
       "      <td>0.985096</td>\n",
       "      <td>1.133710</td>\n",
       "      <td>0.886303</td>\n",
       "      <td>1.282577</td>\n",
       "      <td>1.404248</td>\n",
       "      <td>4.905965</td>\n",
       "      <td>2.556531</td>\n",
       "      <td>2.468341</td>\n",
       "      <td>2.945438</td>\n",
       "    </tr>\n",
       "    <tr>\n",
       "      <th>min</th>\n",
       "      <td>1.000000</td>\n",
       "      <td>15.000000</td>\n",
       "      <td>0.000000</td>\n",
       "      <td>0.000000</td>\n",
       "      <td>1.000000</td>\n",
       "      <td>1.000000</td>\n",
       "      <td>0.000000</td>\n",
       "      <td>1.000000</td>\n",
       "      <td>1.000000</td>\n",
       "      <td>1.000000</td>\n",
       "      <td>...</td>\n",
       "      <td>1.000000</td>\n",
       "      <td>1.000000</td>\n",
       "      <td>1.000000</td>\n",
       "      <td>1.000000</td>\n",
       "      <td>1.000000</td>\n",
       "      <td>1.000000</td>\n",
       "      <td>0.000000</td>\n",
       "      <td>0.000000</td>\n",
       "      <td>5.000000</td>\n",
       "      <td>0.000000</td>\n",
       "    </tr>\n",
       "    <tr>\n",
       "      <th>25%</th>\n",
       "      <td>96.250000</td>\n",
       "      <td>16.000000</td>\n",
       "      <td>2.000000</td>\n",
       "      <td>2.000000</td>\n",
       "      <td>1.000000</td>\n",
       "      <td>1.000000</td>\n",
       "      <td>0.000000</td>\n",
       "      <td>4.000000</td>\n",
       "      <td>3.000000</td>\n",
       "      <td>2.000000</td>\n",
       "      <td>...</td>\n",
       "      <td>4.000000</td>\n",
       "      <td>3.000000</td>\n",
       "      <td>2.000000</td>\n",
       "      <td>1.000000</td>\n",
       "      <td>1.000000</td>\n",
       "      <td>3.000000</td>\n",
       "      <td>0.000000</td>\n",
       "      <td>10.000000</td>\n",
       "      <td>11.000000</td>\n",
       "      <td>11.000000</td>\n",
       "    </tr>\n",
       "    <tr>\n",
       "      <th>50%</th>\n",
       "      <td>191.500000</td>\n",
       "      <td>17.000000</td>\n",
       "      <td>3.000000</td>\n",
       "      <td>3.000000</td>\n",
       "      <td>1.000000</td>\n",
       "      <td>2.000000</td>\n",
       "      <td>0.000000</td>\n",
       "      <td>4.000000</td>\n",
       "      <td>3.000000</td>\n",
       "      <td>3.000000</td>\n",
       "      <td>...</td>\n",
       "      <td>4.000000</td>\n",
       "      <td>3.000000</td>\n",
       "      <td>3.000000</td>\n",
       "      <td>1.000000</td>\n",
       "      <td>2.000000</td>\n",
       "      <td>4.000000</td>\n",
       "      <td>2.000000</td>\n",
       "      <td>12.000000</td>\n",
       "      <td>12.000000</td>\n",
       "      <td>13.000000</td>\n",
       "    </tr>\n",
       "    <tr>\n",
       "      <th>75%</th>\n",
       "      <td>286.750000</td>\n",
       "      <td>17.000000</td>\n",
       "      <td>4.000000</td>\n",
       "      <td>4.000000</td>\n",
       "      <td>2.000000</td>\n",
       "      <td>2.000000</td>\n",
       "      <td>0.000000</td>\n",
       "      <td>5.000000</td>\n",
       "      <td>4.000000</td>\n",
       "      <td>4.000000</td>\n",
       "      <td>...</td>\n",
       "      <td>5.000000</td>\n",
       "      <td>4.000000</td>\n",
       "      <td>4.000000</td>\n",
       "      <td>2.000000</td>\n",
       "      <td>3.000000</td>\n",
       "      <td>5.000000</td>\n",
       "      <td>6.000000</td>\n",
       "      <td>14.000000</td>\n",
       "      <td>14.000000</td>\n",
       "      <td>14.000000</td>\n",
       "    </tr>\n",
       "    <tr>\n",
       "      <th>max</th>\n",
       "      <td>382.000000</td>\n",
       "      <td>22.000000</td>\n",
       "      <td>4.000000</td>\n",
       "      <td>4.000000</td>\n",
       "      <td>4.000000</td>\n",
       "      <td>4.000000</td>\n",
       "      <td>3.000000</td>\n",
       "      <td>5.000000</td>\n",
       "      <td>5.000000</td>\n",
       "      <td>5.000000</td>\n",
       "      <td>...</td>\n",
       "      <td>5.000000</td>\n",
       "      <td>5.000000</td>\n",
       "      <td>5.000000</td>\n",
       "      <td>5.000000</td>\n",
       "      <td>5.000000</td>\n",
       "      <td>5.000000</td>\n",
       "      <td>32.000000</td>\n",
       "      <td>19.000000</td>\n",
       "      <td>19.000000</td>\n",
       "      <td>19.000000</td>\n",
       "    </tr>\n",
       "  </tbody>\n",
       "</table>\n",
       "<p>8 rows × 30 columns</p>\n",
       "</div>"
      ],
      "text/plain": [
       "       Unnamed: 0         age        Medu        Fedu traveltime.x  \\\n",
       "count  382.000000  382.000000  382.000000  382.000000   382.000000   \n",
       "mean   191.500000   16.586387    2.806283    2.565445     1.442408   \n",
       "std    110.418145    1.173470    1.086381    1.096240     0.695378   \n",
       "min      1.000000   15.000000    0.000000    0.000000     1.000000   \n",
       "25%     96.250000   16.000000    2.000000    2.000000     1.000000   \n",
       "50%    191.500000   17.000000    3.000000    3.000000     1.000000   \n",
       "75%    286.750000   17.000000    4.000000    4.000000     2.000000   \n",
       "max    382.000000   22.000000    4.000000    4.000000     4.000000   \n",
       "\n",
       "      studytime.x  failures.x    famrel.x  freetime.x     goout.x  ...  \\\n",
       "count  382.000000  382.000000  382.000000  382.000000  382.000000  ...   \n",
       "mean     2.034031    0.290576    3.939791    3.222513    3.112565  ...   \n",
       "std      0.845798    0.729481    0.921620    0.988233    1.131927  ...   \n",
       "min      1.000000    0.000000    1.000000    1.000000    1.000000  ...   \n",
       "25%      1.000000    0.000000    4.000000    3.000000    2.000000  ...   \n",
       "50%      2.000000    0.000000    4.000000    3.000000    3.000000  ...   \n",
       "75%      2.000000    0.000000    5.000000    4.000000    4.000000  ...   \n",
       "max      4.000000    3.000000    5.000000    5.000000    5.000000  ...   \n",
       "\n",
       "         famrel.y  freetime.y     goout.y      Dalc.y      Walc.y    health.y  \\\n",
       "count  382.000000  382.000000  382.000000  382.000000  382.000000  382.000000   \n",
       "mean     3.942408    3.230366    3.117801    1.476440    2.290576    3.575916   \n",
       "std      0.908884    0.985096    1.133710    0.886303    1.282577    1.404248   \n",
       "min      1.000000    1.000000    1.000000    1.000000    1.000000    1.000000   \n",
       "25%      4.000000    3.000000    2.000000    1.000000    1.000000    3.000000   \n",
       "50%      4.000000    3.000000    3.000000    1.000000    2.000000    4.000000   \n",
       "75%      5.000000    4.000000    4.000000    2.000000    3.000000    5.000000   \n",
       "max      5.000000    5.000000    5.000000    5.000000    5.000000    5.000000   \n",
       "\n",
       "       absences.y        G1.y        G2.y        G3.y  \n",
       "count  382.000000  382.000000  382.000000  382.000000  \n",
       "mean     3.672775   12.112565   12.238220   12.515707  \n",
       "std      4.905965    2.556531    2.468341    2.945438  \n",
       "min      0.000000    0.000000    5.000000    0.000000  \n",
       "25%      0.000000   10.000000   11.000000   11.000000  \n",
       "50%      2.000000   12.000000   12.000000   13.000000  \n",
       "75%      6.000000   14.000000   14.000000   14.000000  \n",
       "max     32.000000   19.000000   19.000000   19.000000  \n",
       "\n",
       "[8 rows x 30 columns]"
      ]
     },
     "execution_count": 133,
     "metadata": {},
     "output_type": "execute_result"
    }
   ],
   "source": [
    "data = pd.read_csv(\"../data/raw/student-merged.csv\")\n",
    "data.shape\n",
    "print(f\"number of columns in dataset : {len(data.columns)}\")\n",
    "print(f\"number of rows in dataset : {len(data)}\")\n",
    "print(data.head()) #printing the first few rows to tell me what the dataset is about\n",
    "print(data.isnull().sum()) #there are 0 null values!\n",
    "data.describe().apply(lambda s: s.apply(lambda x: format(x, 'f')))\n",
    "\n",
    "\n",
    "\n"
   ]
  },
  {
   "cell_type": "code",
   "execution_count": 134,
   "metadata": {},
   "outputs": [
    {
     "name": "stdout",
     "output_type": "stream",
     "text": [
      "number of students with parents who are cohabiting = 344\n",
      "number of students with parents who are not cohabiting = 38\n",
      "   Unnamed: 0 school sex  age address famsize Pstatus  Medu  Fedu      Mjob  \\\n",
      "0           1     GP   F   15       R     GT3       T     1     1   at_home   \n",
      "1           2     GP   F   15       R     GT3       T     1     1     other   \n",
      "2           3     GP   F   15       R     GT3       T     2     2   at_home   \n",
      "3           4     GP   F   15       R     GT3       T     2     4  services   \n",
      "4           5     GP   F   15       R     GT3       T     3     3  services   \n",
      "\n",
      "   ... famrel.y freetime.y goout.y Dalc.y Walc.y  health.y  absences.y  G1.y  \\\n",
      "0  ...        3          1       2      1      1         1           4    13   \n",
      "1  ...        3          3       4      2      4         5           2    13   \n",
      "2  ...        4          3       1      1      1         2           8    14   \n",
      "3  ...        4          3       2      1      1         5           2    10   \n",
      "4  ...        4          2       1      2      3         3           2    13   \n",
      "\n",
      "  G2.y G3.y  \n",
      "0   13   13  \n",
      "1   11   11  \n",
      "2   13   12  \n",
      "3   11   10  \n",
      "4   13   13  \n",
      "\n",
      "[5 rows x 54 columns]\n"
     ]
    }
   ],
   "source": [
    "print(f\"number of students with parents who are cohabiting = {len(data[data['Pstatus']=='T'])}\") \n",
    "print(f\"number of students with parents who are not cohabiting = {len(data[data['Pstatus']=='A'])}\")\n",
    "# I discovered that almost 90% of the students' parents live together.\n",
    "print(data[data['Pstatus']=='T'].head())\n",
    "\n",
    "\n"
   ]
  },
  {
   "cell_type": "code",
   "execution_count": 135,
   "metadata": {},
   "outputs": [
    {
     "data": {
      "text/plain": [
       "[]"
      ]
     },
     "execution_count": 135,
     "metadata": {},
     "output_type": "execute_result"
    },
    {
     "data": {
      "image/png": "[encoded data removed]",
      "text/plain": [
       "<Figure size 640x480 with 1 Axes>"
      ]
     },
     "metadata": {},
     "output_type": "display_data"
    }
   ],
   "source": [
    "box = plt.boxplot(data[data['Pstatus']=='A']['Walc.x'])\n",
    "plt.title(\"Weekend Alcohol Consumption by Students with Parents who do not Cohabit\")\n",
    "plt.plot()\n",
    "\n"
   ]
  },
  {
   "cell_type": "code",
   "execution_count": 136,
   "metadata": {},
   "outputs": [
    {
     "data": {
      "text/plain": [
       "[]"
      ]
     },
     "execution_count": 136,
     "metadata": {},
     "output_type": "execute_result"
    },
    {
     "data": {
      "image/png": "[encoded data removed]",
      "text/plain": [
       "<Figure size 640x480 with 1 Axes>"
      ]
     },
     "metadata": {},
     "output_type": "display_data"
    }
   ],
   "source": [
    "plt.boxplot(data[data['Pstatus']=='T']['Walc.x'])\n",
    "plt.title(\"Weekend Alcohol Consumption by Students with Parents who do Cohabit\")\n",
    "plt.plot()"
   ]
  },
  {
   "cell_type": "markdown",
   "metadata": {},
   "source": [
    "Comparing these two boxplots, I infer that the maximum alcohol consumption of students who's parents do not cohabit is more than those who's parents do cohabit. However "
   ]
  },
  {
   "cell_type": "code",
   "execution_count": 137,
   "metadata": {},
   "outputs": [
    {
     "data": {
      "text/plain": [
       "<AxesSubplot: xlabel='Pstatus', ylabel='count'>"
      ]
     },
     "execution_count": 137,
     "metadata": {},
     "output_type": "execute_result"
    },
    {
     "data": {
      "image/png": "[encoded data removed]",
      "text/plain": [
       "<Figure size 640x480 with 1 Axes>"
      ]
     },
     "metadata": {},
     "output_type": "display_data"
    }
   ],
   "source": [
    "data.head()\n",
    "sns.countplot(data=data,x='Pstatus',hue=\"famrel.x\")\n"
   ]
  },
  {
   "cell_type": "code",
   "execution_count": 138,
   "metadata": {},
   "outputs": [
    {
     "data": {
      "text/plain": [
       "<AxesSubplot: xlabel='failures.x', ylabel='count'>"
      ]
     },
     "execution_count": 138,
     "metadata": {},
     "output_type": "execute_result"
    },
    {
     "data": {
      "image/png": "[encoded data removed]",
      "text/plain": [
       "<Figure size 640x480 with 1 Axes>"
      ]
     },
     "metadata": {},
     "output_type": "display_data"
    }
   ],
   "source": [
    "data.head()\n",
    "sns.countplot(data=data,x='failures.x',hue=\"famrel.x\")"
   ]
  },
  {
   "cell_type": "markdown",
   "metadata": {},
   "source": [
    "The graph above makes it abundantly clar that parents' cohabitation status does not affect the relationship of the students with their parents.\n"
   ]
  },
  {
   "cell_type": "markdown",
   "metadata": {},
   "source": [
    "### Task 2 : Analysis Pipeline"
   ]
  },
  {
   "cell_type": "code",
   "execution_count": 139,
   "metadata": {},
   "outputs": [
    {
     "name": "stdout",
     "output_type": "stream",
     "text": [
      "['student_id', 'age', 'famsize', 'Pstatus', 'internet', 'failures', 'activities', 'romantic_relationship', 'family_relationship', 'freetime', 'socialising', 'Weekday_alcohol', 'Weekend_alcohol', 'absence', 'math_avg', 'por_avg']\n"
     ]
    }
   ],
   "source": [
    "#  data has been loaded already\n",
    "# print(data.isnull().sum()) # there are zero null values\n",
    "data_cleaned = data.copy().drop(['sex','school','address','Medu','Fedu','Mjob','Fjob','reason','guardian.x','guardian.y','traveltime.x','traveltime.y','schoolsup.x','schoolsup.y','paid.x','paid.y','famsup.x','famsup.y','nursery','health.x','health.y','higher.x','higher.y','Dalc.y','Walc.y','famrel.y','freetime.y','absences.y','studytime.y','romantic.y','goout.y','failures.y','activities.y','studytime.x'],axis=1)\n",
    "\n",
    "# using only one column to store the average of all three math grades\n",
    "data_cleaned['math_avg'] = (data_cleaned['G1.x']+data_cleaned['G2.x']+data_cleaned['G3.x'])/3 \n",
    "data_cleaned = data_cleaned.drop(['G1.x','G2.x','G3.x'],axis=1)\n",
    "\n",
    "# using only one column to store the average of all three math grades\n",
    "data_cleaned['por_avg'] = (data_cleaned['G1.y']+data_cleaned['G2.y']+data_cleaned['G3.y'])/3\n",
    "data_cleaned = data_cleaned.drop(['G1.y','G2.y','G3.y'],axis=1)\n",
    "\n",
    "# renaming 'unnamed: 0' to student_id\n",
    "data_cleaned = data_cleaned.rename(columns={'Unnamed: 0':'student_id', 'failures.x':'failures', 'activities.x':'activities', 'romantic.x':'romantic_relationship','Walc.x':'Weekend_alcohol','Dalc.x':'Weekday_alcohol', 'famrel.x':'family_relationship','freetime.x':'freetime','goout.x':'socialising','absences.x':'absence'})\n",
    "print(data_cleaned.columns.values.tolist())\n",
    "\n",
    "\n",
    "\n",
    "\n",
    "\n",
    "\n",
    "\n"
   ]
  },
  {
   "cell_type": "markdown",
   "metadata": {},
   "source": [
    "### Task 3 : Method Chaining"
   ]
  },
  {
   "cell_type": "code",
   "execution_count": 163,
   "metadata": {},
   "outputs": [],
   "source": [
    "def load_and_process(url_or_path):\n",
    "    df = (\n",
    "        pd.read_csv(url_or_path))\n",
    "        # .rename(columns={'Unnamed: 0':'student_ic', 'failures.x':'failures', 'activities.x':'activities', 'romantic.x':'romantic_relationship','Walc.x':'Weekend_alcohol','Dalc.x':'Weekday_alcohol', 'famrel.x':'family_relationship','freetime.x':'freetime','goout.x':'socialising','absences.x':'absence'})    )\n",
    "    df2 = (\n",
    "        df\n",
    "        .assign(math_avg = lambda x :df['G1.x']+df['G2.x']+df['G3.x'])\n",
    "        .assign(por_avg = lambda x :df['G1.y']+df['G2.y']+df['G3.y'])\n",
    "    )\n",
    "    \n",
    "    df3 = (\n",
    "        df2.drop(['sex','school','address','Medu','Fedu','Mjob','Fjob','reason','guardian.x','guardian.y','traveltime.x','traveltime.y','schoolsup.x','schoolsup.y','paid.x','paid.y','famsup.x','famsup.y','nursery','health.x','health.y','higher.x','higher.y','Dalc.y','Walc.y','famrel.y','freetime.y','absences.y','studytime.y','romantic.y','goout.y','failures.y','activities.y','studytime.x'],axis=1)\n",
    "    )\n",
    "\n",
    "    return df3"
   ]
  }
 ],
 "metadata": {
  "kernelspec": {
   "display_name": "Python 3.9.6 64-bit",
   "language": "python",
   "name": "python3"
  },
  "language_info": {
   "codemirror_mode": {
    "name": "ipython",
    "version": 3
   },
   "file_extension": ".py",
   "mimetype": "text/x-python",
   "name": "python",
   "nbconvert_exporter": "python",
   "pygments_lexer": "ipython3",
   "version": "3.9.6"
  },
  "vscode": {
   "interpreter": {
    "hash": "31f2aee4e71d21fbe5cf8b01ff0e069b9275f58929596ceb00d14d90e3e16cd6"
   }
  }
 },
 "nbformat": 4,
 "nbformat_minor": 2
}
