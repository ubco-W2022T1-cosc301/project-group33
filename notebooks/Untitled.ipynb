{
 "cells": [
  {
   "cell_type": "code",
   "execution_count": 1,
   "id": "c1d6070a-968f-4bec-9868-c842b4b693c9",
   "metadata": {},
   "outputs": [],
   "source": [
    "# My Import Libraries\n",
    "\n",
    "import pandas as pd\n",
    "import numpy as np\n",
    "import matplotlib.pylab as plt\n",
    "import seaborn as sns"
   ]
  },
  {
   "cell_type": "code",
   "execution_count": 2,
   "id": "365f4f9f-bc9f-4556-97bb-31fcd9aac57a",
   "metadata": {},
   "outputs": [],
   "source": [
    "#Task 1: EDA"
   ]
  },
  {
   "cell_type": "code",
   "execution_count": 3,
   "id": "338334f6-1ea7-40c9-8ac5-b296159fe447",
   "metadata": {},
   "outputs": [
    {
     "name": "stdout",
     "output_type": "stream",
     "text": [
      "<class 'pandas.core.frame.DataFrame'>\n",
      "Int64Index: 1044 entries, 0 to 1043\n",
      "Data columns (total 34 columns):\n",
      " #   Column      Non-Null Count  Dtype \n",
      "---  ------      --------------  ----- \n",
      " 0   Unnamed: 0  1044 non-null   int64 \n",
      " 1   school      1044 non-null   object\n",
      " 2   sex         1044 non-null   object\n",
      " 3   age         1044 non-null   int64 \n",
      " 4   address     1044 non-null   object\n",
      " 5   famsize     1044 non-null   object\n",
      " 6   Pstatus     1044 non-null   object\n",
      " 7   Medu        1044 non-null   int64 \n",
      " 8   Fedu        1044 non-null   int64 \n",
      " 9   Mjob        1044 non-null   object\n",
      " 10  Fjob        1044 non-null   object\n",
      " 11  reason      1044 non-null   object\n",
      " 12  guardian    1044 non-null   object\n",
      " 13  traveltime  1044 non-null   int64 \n",
      " 14  studytime   1044 non-null   int64 \n",
      " 15  failures    1044 non-null   int64 \n",
      " 16  schoolsup   1044 non-null   object\n",
      " 17  famsup      1044 non-null   object\n",
      " 18  paid        1044 non-null   object\n",
      " 19  activities  1044 non-null   object\n",
      " 20  nursery     1044 non-null   object\n",
      " 21  higher      1044 non-null   object\n",
      " 22  internet    1044 non-null   object\n",
      " 23  romantic    1044 non-null   object\n",
      " 24  famrel      1044 non-null   int64 \n",
      " 25  freetime    1044 non-null   int64 \n",
      " 26  goout       1044 non-null   int64 \n",
      " 27  Dalc        1044 non-null   int64 \n",
      " 28  Walc        1044 non-null   int64 \n",
      " 29  health      1044 non-null   int64 \n",
      " 30  absences    1044 non-null   int64 \n",
      " 31  G1          1044 non-null   int64 \n",
      " 32  G2          1044 non-null   int64 \n",
      " 33  G3          1044 non-null   int64 \n",
      "dtypes: int64(17), object(17)\n",
      "memory usage: 285.5+ KB\n"
     ]
    },
    {
     "data": {
      "text/plain": [
       "(1044, 34)"
      ]
     },
     "execution_count": 3,
     "metadata": {},
     "output_type": "execute_result"
    }
   ],
   "source": [
    "## First I am merging my two datasets from the two classes interviewed for this dataset. And then, I am taking a broad look at all of my data.\n",
    "df1 = pd.read_csv('../data/raw/student-mat.csv')\n",
    "df2 = pd.read_csv('../data/raw/student-por.csv')\n",
    "df = pd.merge(df1,df2, how = \"outer\")\n",
    "df.info()\n",
    "df.shape"
   ]
  },
  {
   "cell_type": "code",
   "execution_count": 4,
   "id": "569aada5-72fe-44d0-8957-6fc82f489eed",
   "metadata": {},
   "outputs": [
    {
     "data": {
      "text/html": [
       "<div>\n",
       "<style scoped>\n",
       "    .dataframe tbody tr th:only-of-type {\n",
       "        vertical-align: middle;\n",
       "    }\n",
       "\n",
       "    .dataframe tbody tr th {\n",
       "        vertical-align: top;\n",
       "    }\n",
       "\n",
       "    .dataframe thead th {\n",
       "        text-align: right;\n",
       "    }\n",
       "</style>\n",
       "<table border=\"1\" class=\"dataframe\">\n",
       "  <thead>\n",
       "    <tr style=\"text-align: right;\">\n",
       "      <th></th>\n",
       "      <th>Unnamed: 0</th>\n",
       "      <th>age</th>\n",
       "      <th>Medu</th>\n",
       "      <th>Fedu</th>\n",
       "      <th>traveltime</th>\n",
       "      <th>studytime</th>\n",
       "      <th>failures</th>\n",
       "      <th>famrel</th>\n",
       "      <th>freetime</th>\n",
       "      <th>goout</th>\n",
       "      <th>Dalc</th>\n",
       "      <th>Walc</th>\n",
       "      <th>health</th>\n",
       "      <th>absences</th>\n",
       "      <th>G1</th>\n",
       "      <th>G2</th>\n",
       "      <th>G3</th>\n",
       "    </tr>\n",
       "  </thead>\n",
       "  <tbody>\n",
       "    <tr>\n",
       "      <th>count</th>\n",
       "      <td>1044.000000</td>\n",
       "      <td>1044.000000</td>\n",
       "      <td>1044.000000</td>\n",
       "      <td>1044.000000</td>\n",
       "      <td>1044.000000</td>\n",
       "      <td>1044.000000</td>\n",
       "      <td>1044.000000</td>\n",
       "      <td>1044.000000</td>\n",
       "      <td>1044.000000</td>\n",
       "      <td>1044.000000</td>\n",
       "      <td>1044.000000</td>\n",
       "      <td>1044.000000</td>\n",
       "      <td>1044.000000</td>\n",
       "      <td>1044.000000</td>\n",
       "      <td>1044.000000</td>\n",
       "      <td>1044.000000</td>\n",
       "      <td>1044.000000</td>\n",
       "    </tr>\n",
       "    <tr>\n",
       "      <th>mean</th>\n",
       "      <td>276.949234</td>\n",
       "      <td>16.726054</td>\n",
       "      <td>2.603448</td>\n",
       "      <td>2.387931</td>\n",
       "      <td>1.522989</td>\n",
       "      <td>1.970307</td>\n",
       "      <td>0.264368</td>\n",
       "      <td>3.935824</td>\n",
       "      <td>3.201149</td>\n",
       "      <td>3.156130</td>\n",
       "      <td>1.494253</td>\n",
       "      <td>2.284483</td>\n",
       "      <td>3.543103</td>\n",
       "      <td>4.434866</td>\n",
       "      <td>11.213602</td>\n",
       "      <td>11.246169</td>\n",
       "      <td>11.341954</td>\n",
       "    </tr>\n",
       "    <tr>\n",
       "      <th>std</th>\n",
       "      <td>174.819941</td>\n",
       "      <td>1.239975</td>\n",
       "      <td>1.124907</td>\n",
       "      <td>1.099938</td>\n",
       "      <td>0.731727</td>\n",
       "      <td>0.834353</td>\n",
       "      <td>0.656142</td>\n",
       "      <td>0.933401</td>\n",
       "      <td>1.031507</td>\n",
       "      <td>1.152575</td>\n",
       "      <td>0.911714</td>\n",
       "      <td>1.285105</td>\n",
       "      <td>1.424703</td>\n",
       "      <td>6.210017</td>\n",
       "      <td>2.983394</td>\n",
       "      <td>3.285071</td>\n",
       "      <td>3.864796</td>\n",
       "    </tr>\n",
       "    <tr>\n",
       "      <th>min</th>\n",
       "      <td>1.000000</td>\n",
       "      <td>15.000000</td>\n",
       "      <td>0.000000</td>\n",
       "      <td>0.000000</td>\n",
       "      <td>1.000000</td>\n",
       "      <td>1.000000</td>\n",
       "      <td>0.000000</td>\n",
       "      <td>1.000000</td>\n",
       "      <td>1.000000</td>\n",
       "      <td>1.000000</td>\n",
       "      <td>1.000000</td>\n",
       "      <td>1.000000</td>\n",
       "      <td>1.000000</td>\n",
       "      <td>0.000000</td>\n",
       "      <td>0.000000</td>\n",
       "      <td>0.000000</td>\n",
       "      <td>0.000000</td>\n",
       "    </tr>\n",
       "    <tr>\n",
       "      <th>25%</th>\n",
       "      <td>131.000000</td>\n",
       "      <td>16.000000</td>\n",
       "      <td>2.000000</td>\n",
       "      <td>1.000000</td>\n",
       "      <td>1.000000</td>\n",
       "      <td>1.000000</td>\n",
       "      <td>0.000000</td>\n",
       "      <td>4.000000</td>\n",
       "      <td>3.000000</td>\n",
       "      <td>2.000000</td>\n",
       "      <td>1.000000</td>\n",
       "      <td>1.000000</td>\n",
       "      <td>3.000000</td>\n",
       "      <td>0.000000</td>\n",
       "      <td>9.000000</td>\n",
       "      <td>9.000000</td>\n",
       "      <td>10.000000</td>\n",
       "    </tr>\n",
       "    <tr>\n",
       "      <th>50%</th>\n",
       "      <td>261.500000</td>\n",
       "      <td>17.000000</td>\n",
       "      <td>3.000000</td>\n",
       "      <td>2.000000</td>\n",
       "      <td>1.000000</td>\n",
       "      <td>2.000000</td>\n",
       "      <td>0.000000</td>\n",
       "      <td>4.000000</td>\n",
       "      <td>3.000000</td>\n",
       "      <td>3.000000</td>\n",
       "      <td>1.000000</td>\n",
       "      <td>2.000000</td>\n",
       "      <td>4.000000</td>\n",
       "      <td>2.000000</td>\n",
       "      <td>11.000000</td>\n",
       "      <td>11.000000</td>\n",
       "      <td>11.000000</td>\n",
       "    </tr>\n",
       "    <tr>\n",
       "      <th>75%</th>\n",
       "      <td>392.000000</td>\n",
       "      <td>18.000000</td>\n",
       "      <td>4.000000</td>\n",
       "      <td>3.000000</td>\n",
       "      <td>2.000000</td>\n",
       "      <td>2.000000</td>\n",
       "      <td>0.000000</td>\n",
       "      <td>5.000000</td>\n",
       "      <td>4.000000</td>\n",
       "      <td>4.000000</td>\n",
       "      <td>2.000000</td>\n",
       "      <td>3.000000</td>\n",
       "      <td>5.000000</td>\n",
       "      <td>6.000000</td>\n",
       "      <td>13.000000</td>\n",
       "      <td>13.000000</td>\n",
       "      <td>14.000000</td>\n",
       "    </tr>\n",
       "    <tr>\n",
       "      <th>max</th>\n",
       "      <td>649.000000</td>\n",
       "      <td>22.000000</td>\n",
       "      <td>4.000000</td>\n",
       "      <td>4.000000</td>\n",
       "      <td>4.000000</td>\n",
       "      <td>4.000000</td>\n",
       "      <td>3.000000</td>\n",
       "      <td>5.000000</td>\n",
       "      <td>5.000000</td>\n",
       "      <td>5.000000</td>\n",
       "      <td>5.000000</td>\n",
       "      <td>5.000000</td>\n",
       "      <td>5.000000</td>\n",
       "      <td>75.000000</td>\n",
       "      <td>19.000000</td>\n",
       "      <td>19.000000</td>\n",
       "      <td>20.000000</td>\n",
       "    </tr>\n",
       "  </tbody>\n",
       "</table>\n",
       "</div>"
      ],
      "text/plain": [
       "        Unnamed: 0          age         Medu         Fedu   traveltime  \\\n",
       "count  1044.000000  1044.000000  1044.000000  1044.000000  1044.000000   \n",
       "mean    276.949234    16.726054     2.603448     2.387931     1.522989   \n",
       "std     174.819941     1.239975     1.124907     1.099938     0.731727   \n",
       "min       1.000000    15.000000     0.000000     0.000000     1.000000   \n",
       "25%     131.000000    16.000000     2.000000     1.000000     1.000000   \n",
       "50%     261.500000    17.000000     3.000000     2.000000     1.000000   \n",
       "75%     392.000000    18.000000     4.000000     3.000000     2.000000   \n",
       "max     649.000000    22.000000     4.000000     4.000000     4.000000   \n",
       "\n",
       "         studytime     failures       famrel     freetime        goout  \\\n",
       "count  1044.000000  1044.000000  1044.000000  1044.000000  1044.000000   \n",
       "mean      1.970307     0.264368     3.935824     3.201149     3.156130   \n",
       "std       0.834353     0.656142     0.933401     1.031507     1.152575   \n",
       "min       1.000000     0.000000     1.000000     1.000000     1.000000   \n",
       "25%       1.000000     0.000000     4.000000     3.000000     2.000000   \n",
       "50%       2.000000     0.000000     4.000000     3.000000     3.000000   \n",
       "75%       2.000000     0.000000     5.000000     4.000000     4.000000   \n",
       "max       4.000000     3.000000     5.000000     5.000000     5.000000   \n",
       "\n",
       "              Dalc         Walc       health     absences           G1  \\\n",
       "count  1044.000000  1044.000000  1044.000000  1044.000000  1044.000000   \n",
       "mean      1.494253     2.284483     3.543103     4.434866    11.213602   \n",
       "std       0.911714     1.285105     1.424703     6.210017     2.983394   \n",
       "min       1.000000     1.000000     1.000000     0.000000     0.000000   \n",
       "25%       1.000000     1.000000     3.000000     0.000000     9.000000   \n",
       "50%       1.000000     2.000000     4.000000     2.000000    11.000000   \n",
       "75%       2.000000     3.000000     5.000000     6.000000    13.000000   \n",
       "max       5.000000     5.000000     5.000000    75.000000    19.000000   \n",
       "\n",
       "                G2           G3  \n",
       "count  1044.000000  1044.000000  \n",
       "mean     11.246169    11.341954  \n",
       "std       3.285071     3.864796  \n",
       "min       0.000000     0.000000  \n",
       "25%       9.000000    10.000000  \n",
       "50%      11.000000    11.000000  \n",
       "75%      13.000000    14.000000  \n",
       "max      19.000000    20.000000  "
      ]
     },
     "execution_count": 4,
     "metadata": {},
     "output_type": "execute_result"
    }
   ],
   "source": [
    "df.describe()"
   ]
  },
  {
   "cell_type": "code",
   "execution_count": 5,
   "id": "e0e1fa06-8627-4d31-b6e4-fa0587e374fc",
   "metadata": {},
   "outputs": [
    {
     "data": {
      "text/plain": [
       "(1044, 34)"
      ]
     },
     "execution_count": 5,
     "metadata": {},
     "output_type": "execute_result"
    }
   ],
   "source": [
    "df.shape"
   ]
  },
  {
   "cell_type": "code",
   "execution_count": 6,
   "id": "4da6f489-aeff-4947-a1d1-311860929cb6",
   "metadata": {},
   "outputs": [
    {
     "data": {
      "text/plain": [
       "Index(['Unnamed: 0', 'school', 'sex', 'age', 'address', 'famsize', 'Pstatus',\n",
       "       'Medu', 'Fedu', 'Mjob', 'Fjob', 'reason', 'guardian', 'traveltime',\n",
       "       'studytime', 'failures', 'schoolsup', 'famsup', 'paid', 'activities',\n",
       "       'nursery', 'higher', 'internet', 'romantic', 'famrel', 'freetime',\n",
       "       'goout', 'Dalc', 'Walc', 'health', 'absences', 'G1', 'G2', 'G3'],\n",
       "      dtype='object')"
      ]
     },
     "execution_count": 6,
     "metadata": {},
     "output_type": "execute_result"
    }
   ],
   "source": [
    "df.columns"
   ]
  },
  {
   "cell_type": "code",
   "execution_count": 7,
   "id": "7f7e6bb4-7d6f-4f71-88d6-6aaa72b46b89",
   "metadata": {},
   "outputs": [
    {
     "data": {
      "text/plain": [
       "Unnamed: 0    649\n",
       "school          2\n",
       "sex             2\n",
       "age             8\n",
       "address         2\n",
       "famsize         2\n",
       "Pstatus         2\n",
       "Medu            5\n",
       "Fedu            5\n",
       "Mjob            5\n",
       "Fjob            5\n",
       "reason          4\n",
       "guardian        3\n",
       "traveltime      4\n",
       "studytime       4\n",
       "failures        4\n",
       "schoolsup       2\n",
       "famsup          2\n",
       "paid            2\n",
       "activities      2\n",
       "nursery         2\n",
       "higher          2\n",
       "internet        2\n",
       "romantic        2\n",
       "famrel          5\n",
       "freetime        5\n",
       "goout           5\n",
       "Dalc            5\n",
       "Walc            5\n",
       "health          5\n",
       "absences       35\n",
       "G1             18\n",
       "G2             17\n",
       "G3             19\n",
       "dtype: int64"
      ]
     },
     "execution_count": 7,
     "metadata": {},
     "output_type": "execute_result"
    }
   ],
   "source": [
    "df.nunique(axis=0)"
   ]
  },
  {
   "cell_type": "code",
   "execution_count": 8,
   "id": "c257d906-88f5-45f3-b960-cc48cce0ecf2",
   "metadata": {},
   "outputs": [
    {
     "data": {
      "image/png": "[encoded data removed]",
      "text/plain": [
       "<Figure size 1440x1080 with 20 Axes>"
      ]
     },
     "metadata": {
      "needs_background": "light"
     },
     "output_type": "display_data"
    }
   ],
   "source": [
    "#Looking at histograms of all the numerical columns within my dataset.\n",
    "##These visual representations helped me understand my data and helped me find outliers later in the EDA process.\n",
    "hist = df.hist(bins=10,figsize =(20,15))"
   ]
  },
  {
   "cell_type": "code",
   "execution_count": 9,
   "id": "52da42e3-b9e0-4165-bfdf-92a3484c79ef",
   "metadata": {},
   "outputs": [],
   "source": [
    "#Task 2: Data Analysis Pipeline"
   ]
  },
  {
   "cell_type": "code",
   "execution_count": 18,
   "id": "90c163cd-f752-47cc-90e2-a5f5baf1326a",
   "metadata": {},
   "outputs": [
    {
     "name": "stdout",
     "output_type": "stream",
     "text": [
      "Number duplicated entries found\n"
     ]
    }
   ],
   "source": [
    "##I am ensuring that there are no duplicates from merging the math and portuguese class datasets\n",
    "\n",
    "if len(df[df.duplicated()]) > 0:\n",
    "    print(\"Number of duplicated entries: \", len(df[df.duplicated()]))\n",
    "    print(df[df.duplicated(keep=False)].sort_values(by=list(df.columns)).head())\n",
    "else:\n",
    "    print(\"Number duplicated entries found\")"
   ]
  },
  {
   "cell_type": "code",
   "execution_count": 14,
   "id": "fd4ac03d-63e9-4a01-be01-758ed2263b00",
   "metadata": {},
   "outputs": [],
   "source": [
    "#I am removing the columns that are irrelevant to my research question:\n",
    "cleandf = df.copy().drop(['school','sex', 'famsup', 'age', 'guardian', 'address', 'famsize', 'famrel', 'Dalc', 'Walc', 'freetime', 'G1', 'G2','goout', 'Mjob', 'Fjob', 'reason', 'romantic', 'internet', 'higher', 'nursery', 'activities', 'paid', 'absences', 'health', 'traveltime', 'studytime', 'failures', 'schoolsup'], axis=1).dropna(axis=0)"
   ]
  },
  {
   "cell_type": "code",
   "execution_count": 16,
   "id": "25fd0d94-36e5-4972-8f36-0721b99ee1fb",
   "metadata": {},
   "outputs": [],
   "source": [
    "##Adding a new column containing the mean of Medu (maternal education) and Fedu (paternal education). \n",
    "### This new column = Parental Education (Pedu):\n",
    "\n",
    "cleandf['Pedu'] = ((df.Medu.astype(int) + df.Fedu.astype(int))*(1/2))"
   ]
  },
  {
   "cell_type": "code",
   "execution_count": 17,
   "id": "03687a7e-664a-4de9-a9e0-4d5d96b96959",
   "metadata": {},
   "outputs": [
    {
     "data": {
      "text/html": [
       "<div>\n",
       "<style scoped>\n",
       "    .dataframe tbody tr th:only-of-type {\n",
       "        vertical-align: middle;\n",
       "    }\n",
       "\n",
       "    .dataframe tbody tr th {\n",
       "        vertical-align: top;\n",
       "    }\n",
       "\n",
       "    .dataframe thead th {\n",
       "        text-align: right;\n",
       "    }\n",
       "</style>\n",
       "<table border=\"1\" class=\"dataframe\">\n",
       "  <thead>\n",
       "    <tr style=\"text-align: right;\">\n",
       "      <th></th>\n",
       "      <th>StudentNum</th>\n",
       "      <th>Pstatus</th>\n",
       "      <th>Medu</th>\n",
       "      <th>Fedu</th>\n",
       "      <th>Grade</th>\n",
       "      <th>Pedu</th>\n",
       "    </tr>\n",
       "  </thead>\n",
       "  <tbody>\n",
       "    <tr>\n",
       "      <th>0</th>\n",
       "      <td>1</td>\n",
       "      <td>A</td>\n",
       "      <td>4</td>\n",
       "      <td>4</td>\n",
       "      <td>6</td>\n",
       "      <td>4.0</td>\n",
       "    </tr>\n",
       "    <tr>\n",
       "      <th>1</th>\n",
       "      <td>2</td>\n",
       "      <td>T</td>\n",
       "      <td>1</td>\n",
       "      <td>1</td>\n",
       "      <td>6</td>\n",
       "      <td>1.0</td>\n",
       "    </tr>\n",
       "    <tr>\n",
       "      <th>2</th>\n",
       "      <td>3</td>\n",
       "      <td>T</td>\n",
       "      <td>1</td>\n",
       "      <td>1</td>\n",
       "      <td>10</td>\n",
       "      <td>1.0</td>\n",
       "    </tr>\n",
       "    <tr>\n",
       "      <th>3</th>\n",
       "      <td>4</td>\n",
       "      <td>T</td>\n",
       "      <td>4</td>\n",
       "      <td>2</td>\n",
       "      <td>15</td>\n",
       "      <td>3.0</td>\n",
       "    </tr>\n",
       "    <tr>\n",
       "      <th>4</th>\n",
       "      <td>5</td>\n",
       "      <td>T</td>\n",
       "      <td>3</td>\n",
       "      <td>3</td>\n",
       "      <td>10</td>\n",
       "      <td>3.0</td>\n",
       "    </tr>\n",
       "    <tr>\n",
       "      <th>...</th>\n",
       "      <td>...</td>\n",
       "      <td>...</td>\n",
       "      <td>...</td>\n",
       "      <td>...</td>\n",
       "      <td>...</td>\n",
       "      <td>...</td>\n",
       "    </tr>\n",
       "    <tr>\n",
       "      <th>1039</th>\n",
       "      <td>645</td>\n",
       "      <td>T</td>\n",
       "      <td>2</td>\n",
       "      <td>3</td>\n",
       "      <td>10</td>\n",
       "      <td>2.5</td>\n",
       "    </tr>\n",
       "    <tr>\n",
       "      <th>1040</th>\n",
       "      <td>646</td>\n",
       "      <td>T</td>\n",
       "      <td>3</td>\n",
       "      <td>1</td>\n",
       "      <td>16</td>\n",
       "      <td>2.0</td>\n",
       "    </tr>\n",
       "    <tr>\n",
       "      <th>1041</th>\n",
       "      <td>647</td>\n",
       "      <td>T</td>\n",
       "      <td>1</td>\n",
       "      <td>1</td>\n",
       "      <td>9</td>\n",
       "      <td>1.0</td>\n",
       "    </tr>\n",
       "    <tr>\n",
       "      <th>1042</th>\n",
       "      <td>648</td>\n",
       "      <td>T</td>\n",
       "      <td>3</td>\n",
       "      <td>1</td>\n",
       "      <td>10</td>\n",
       "      <td>2.0</td>\n",
       "    </tr>\n",
       "    <tr>\n",
       "      <th>1043</th>\n",
       "      <td>649</td>\n",
       "      <td>T</td>\n",
       "      <td>3</td>\n",
       "      <td>2</td>\n",
       "      <td>11</td>\n",
       "      <td>2.5</td>\n",
       "    </tr>\n",
       "  </tbody>\n",
       "</table>\n",
       "<p>1044 rows × 6 columns</p>\n",
       "</div>"
      ],
      "text/plain": [
       "      StudentNum Pstatus  Medu  Fedu  Grade  Pedu\n",
       "0              1       A     4     4      6   4.0\n",
       "1              2       T     1     1      6   1.0\n",
       "2              3       T     1     1     10   1.0\n",
       "3              4       T     4     2     15   3.0\n",
       "4              5       T     3     3     10   3.0\n",
       "...          ...     ...   ...   ...    ...   ...\n",
       "1039         645       T     2     3     10   2.5\n",
       "1040         646       T     3     1     16   2.0\n",
       "1041         647       T     1     1      9   1.0\n",
       "1042         648       T     3     1     10   2.0\n",
       "1043         649       T     3     2     11   2.5\n",
       "\n",
       "[1044 rows x 6 columns]"
      ]
     },
     "execution_count": 17,
     "metadata": {},
     "output_type": "execute_result"
    }
   ],
   "source": [
    "# I am now renaming 2 columns:\n",
    "## The first is \"Unnamed: 0\" which is being changes to \"Student #\" as the previous name says nothing about the column.\n",
    "## The second is \"G3\", getting changed to Grade (Final grade).\n",
    "\n",
    "cleandf = cleandf.rename(columns={'Unnamed: 0':'StudentNum'})\n",
    "cleandf = cleandf.rename(columns={'G3':'Grade'})\n",
    "cleandf"
   ]
  },
  {
   "cell_type": "code",
   "execution_count": 31,
   "id": "a64baea5-213d-4b91-b0f0-967124f7e607",
   "metadata": {},
   "outputs": [
    {
     "data": {
      "text/plain": [
       "(     StudentNum Pstatus  Medu  Fedu  Grade  Pedu\n",
       " 0             1       A     4     4      6   4.0\n",
       " 1             2       T     1     1      6   1.0\n",
       " 2             3       T     1     1     10   1.0\n",
       " 3             4       T     4     2     15   3.0\n",
       " 4             5       T     3     3     10   3.0\n",
       " ..          ...     ...   ...   ...    ...   ...\n",
       " 390         391       A     2     2      9   2.0\n",
       " 391         392       T     3     1     16   2.0\n",
       " 392         393       T     1     1      7   1.0\n",
       " 393         394       T     3     2     10   2.5\n",
       " 394         395       T     1     1      9   1.0\n",
       " \n",
       " [395 rows x 6 columns],)"
      ]
     },
     "execution_count": 31,
     "metadata": {},
     "output_type": "execute_result"
    }
   ],
   "source": [
    "#Task 3: Method Chaining\n",
    "\n",
    "from .. import project_functions2.py # This is called a relative import\n",
    "df = project_functions.load_and_process(url_or_path_to_csv_file)\n",
    "df\n",
    "import pandas as pd\n",
    "\n",
    "\n",
    "def df(address):\n",
    "    df1 = (\n",
    "        pd.read_csv(address)\n",
    "        .drop(columns = ['school','sex', 'famsup', 'age', 'guardian', 'address', 'famsize', 'famrel',\n",
    "                         'Dalc', 'Walc', 'freetime', 'G1', 'G2','goout', 'Mjob', 'Fjob', 'reason', 'romantic',\n",
    "                            'internet', 'higher', 'nursery', 'activities', 'paid', 'absences', 'health', 'traveltime',\n",
    "                         'studytime', 'failures', 'schoolsup'])\n",
    "        .rename(columns ={'Unnamed: 0':'StudentNum','G3':'Grade'})\n",
    "        .dropna()\n",
    "        .reset_index(drop=True)\n",
    "        .assign(Pedu=lambda x: (x['Medu']*1/2) + (x['Fedu']*1/2)),\n",
    "        ) \n",
    "    \n",
    "    return df1\n",
    "\n",
    "df(\"../data/raw/student-mat.csv\")"
   ]
  },
  {
   "cell_type": "code",
   "execution_count": 35,
   "id": "a544788c-ee57-4d78-b498-fb2da533ca74",
   "metadata": {},
   "outputs": [
    {
     "ename": "ModuleNotFoundError",
     "evalue": "No module named 'project_functions2'",
     "output_type": "error",
     "traceback": [
      "\u001b[0;31m---------------------------------------------------------------------------\u001b[0m",
      "\u001b[0;31mModuleNotFoundError\u001b[0m                       Traceback (most recent call last)",
      "Cell \u001b[0;32mIn [35], line 1\u001b[0m\n\u001b[0;32m----> 1\u001b[0m \u001b[38;5;28;01mfrom\u001b[39;00m \u001b[38;5;21;01mproject_functions2\u001b[39;00m\u001b[38;5;21;01m.\u001b[39;00m\u001b[38;5;21;01mpy\u001b[39;00m \u001b[38;5;28;01mimport\u001b[39;00m project_functions2 \u001b[38;5;66;03m# This is called a relative import\u001b[39;00m\n\u001b[1;32m      2\u001b[0m df \u001b[38;5;241m=\u001b[39m project_functions\u001b[38;5;241m.\u001b[39mload_and_process(url_or_path_to_csv_file)\n\u001b[1;32m      3\u001b[0m df\n",
      "\u001b[0;31mModuleNotFoundError\u001b[0m: No module named 'project_functions2'"
     ]
    }
   ],
   "source": [
    "\n",
    "from project_functions2.py import project_functions2 # This is called a relative import\n",
    "df = project_functions.load_and_process(url_or_path_to_csv_file)\n",
    "df"
   ]
  },
  {
   "cell_type": "code",
   "execution_count": 39,
   "id": "6b84dc8f-769e-4a3f-8067-c05ee1b38a75",
   "metadata": {},
   "outputs": [
    {
     "ename": "ImportError",
     "evalue": "attempted relative import with no known parent package",
     "output_type": "error",
     "traceback": [
      "\u001b[0;31m---------------------------------------------------------------------------\u001b[0m",
      "\u001b[0;31mImportError\u001b[0m                               Traceback (most recent call last)",
      "Cell \u001b[0;32mIn [39], line 1\u001b[0m\n\u001b[0;32m----> 1\u001b[0m \u001b[38;5;28;01mfrom\u001b[39;00m \u001b[38;5;21;01m.\u001b[39;00m\u001b[38;5;21;01m.\u001b[39;00m \u001b[38;5;28;01mimport\u001b[39;00m project_functions2 \u001b[38;5;66;03m# This is called a relative import\u001b[39;00m\n\u001b[1;32m      2\u001b[0m df \u001b[38;5;241m=\u001b[39m project_functions\u001b[38;5;241m.\u001b[39mload_and_process(\u001b[38;5;124m'\u001b[39m\u001b[38;5;124mnotebooks/project_functions2\u001b[39m\u001b[38;5;124m'\u001b[39m)\n\u001b[1;32m      3\u001b[0m df\n",
      "\u001b[0;31mImportError\u001b[0m: attempted relative import with no known parent package"
     ]
    }
   ],
   "source": [
    "from .. import project_functions2 # This is called a relative import\n",
    "df = project_functions.load_and_process('notebooks/project_functions2')\n",
    "df"
   ]
  },
  {
   "cell_type": "code",
   "execution_count": null,
   "id": "1447ed99-e3c3-431c-83ed-3b19009fed62",
   "metadata": {},
   "outputs": [],
   "source": []
  }
 ],
 "metadata": {
  "kernelspec": {
   "display_name": "Python 3",
   "language": "python",
   "name": "python3"
  },
  "language_info": {
   "codemirror_mode": {
    "name": "ipython",
    "version": 3
   },
   "file_extension": ".py",
   "mimetype": "text/x-python",
   "name": "python",
   "nbconvert_exporter": "python",
   "pygments_lexer": "ipython3",
   "version": "3.9.12"
  }
 },
 "nbformat": 4,
 "nbformat_minor": 5
}
