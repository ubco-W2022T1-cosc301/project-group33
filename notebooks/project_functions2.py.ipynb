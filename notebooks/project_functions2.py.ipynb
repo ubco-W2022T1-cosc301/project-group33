{
 "cells": [
  {
   "cell_type": "code",
   "execution_count": null,
   "id": "5e1c7741-e397-4064-a9c1-a428876ea739",
   "metadata": {},
   "outputs": [],
   "source": [
    "import pandas as pd\n",
    "import numpy as np\n",
    "import matplotlib.pylab as plt\n",
    "import seaborn as sns"
   ]
  },
  {
   "cell_type": "code",
   "execution_count": 392,
   "id": "daea6439-76ab-43d3-86ff-d049ec32f749",
   "metadata": {},
   "outputs": [],
   "source": [
    "def load_and_process(address):\n",
    "    df1 = (\n",
    "        pd.read_csv(address)\n",
    "        .drop(columns = ['school','sex', 'famsup', 'age', 'guardian', 'address', 'famsize', 'famrel',\n",
    "                         'Dalc', 'Walc', 'freetime', 'G1', 'G2','goout', 'Mjob', 'Fjob', 'reason', 'romantic',\n",
    "                            'internet', 'higher', 'nursery', 'activities', 'paid', 'absences', 'health', 'traveltime',\n",
    "                         'studytime', 'failures', 'schoolsup'])\n",
    "        .rename(columns ={'Unnamed: 0':'StudentNum','G3':'Grade'})\n",
    "        .dropna()\n",
    "        .reset_index(drop=True)\n",
    "        .assign(Pedu=lambda x: (x['Medu']*1/2) + (x['Fedu']*1/2)),\n",
    "        ) \n",
    "    \n",
    "    return df1"
   ]
  },
  {
   "cell_type": "code",
   "execution_count": null,
   "id": "b29a247a-62fc-440d-9636-238e5f5bbfeb",
   "metadata": {},
   "outputs": [],
   "source": []
  }
 ],
 "metadata": {
  "kernelspec": {
   "display_name": "Python 3",
   "language": "python",
   "name": "python3"
  },
  "language_info": {
   "codemirror_mode": {
    "name": "ipython",
    "version": 3
   },
   "file_extension": ".py",
   "mimetype": "text/x-python",
   "name": "python",
   "nbconvert_exporter": "python",
   "pygments_lexer": "ipython3",
   "version": "3.9.12"
  }
 },
 "nbformat": 4,
 "nbformat_minor": 5
}
