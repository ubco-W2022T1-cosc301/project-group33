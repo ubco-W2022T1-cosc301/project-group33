{
 "cells": [
  {
   "cell_type": "markdown",
   "metadata": {},
   "source": [
    "# Madisyn Joyal"
   ]
  },
  {
   "cell_type": "markdown",
   "metadata": {},
   "source": [
    "## Research question/interests\n",
    "\n",
    "My research question looks at whether there is a connection between parental education status and alcohol consumption. I'm interested in this research question as I am the first in my family to go to a post-secondary school. I want to see how this aspect, which is out of students' control, influences their consumption of alcohol."
   ]
  },
  {
   "cell_type": "code",
   "execution_count": 32,
   "metadata": {},
   "outputs": [],
   "source": [
    "## ETA\n",
    "import pandas as pd\n",
    "import os\n",
    "\n",
    "#d1=pd.read_csv(\"data/raw/student-mat.csv\", header=TRUE)\n",
    "#d2=read.table(\"student-por.csv\",header=TRUE)\n",
    "\n",
    "#df = pd.read_csv('data/pokemon.csv')\n",
    "#df.head(5)\n",
    "\n",
    "\n",
    "#d3=merge(d1,d2,by=c(\"school\",\"sex\",\"age\",\"address\",\"famsize\",\"Pstatus\",\"Medu\",\"Fedu\",\"Mjob\",\"Fjob\",\"reason\",\"nursery\",\"internet\"))\n",
    "#print(nrow(d3))\n"
   ]
  },
  {
   "cell_type": "code",
   "execution_count": 33,
   "metadata": {},
   "outputs": [],
   "source": [
    "import pandas as pd\n",
    "#d1=pd.read_csv(\"https://data.world/databeats/student-alcohol-consumption/workspace/file?filename=student-mat.csv\")\n",
    "\n",
    "#d1"
   ]
  },
  {
   "cell_type": "code",
   "execution_count": 37,
   "metadata": {},
   "outputs": [],
   "source": [
    "d1=pd.read_csv(\"../data/raw/student-mat.csv\")\n",
    "\n",
    "d2 = pd.read_csv(\"../data/raw/student-por.csv\")\n",
    "\n",
    "dfmerge = pd.merge(d1, d2, how = \"outer\")\n",
    "\n",
    "#dfmerge.to_csv(\"mergedstudents\")\n",
    "\n",
    "#df.to_csv(os.path.join(cwd, \"new\"))"
   ]
  },
  {
   "cell_type": "code",
   "execution_count": 39,
   "metadata": {},
   "outputs": [],
   "source": [
    "cwd = os.getcwd()\n",
    "mergetime = dfmerge.to_csv(os.path.join(cwd, \"mergedstudents.csv\"))\n",
    "\n",
    "mergetime"
   ]
  },
  {
   "cell_type": "code",
   "execution_count": null,
   "metadata": {},
   "outputs": [],
   "source": []
  },
  {
   "cell_type": "code",
   "execution_count": null,
   "metadata": {},
   "outputs": [],
   "source": []
  }
 ],
 "metadata": {
  "kernelspec": {
   "display_name": "Python 3",
   "language": "python",
   "name": "python3"
  },
  "language_info": {
   "codemirror_mode": {
    "name": "ipython",
    "version": 3
   },
   "file_extension": ".py",
   "mimetype": "text/x-python",
   "name": "python",
   "nbconvert_exporter": "python",
   "pygments_lexer": "ipython3",
   "version": "3.9.12"
  }
 },
 "nbformat": 4,
 "nbformat_minor": 4
}
